{
 "cells": [
  {
   "cell_type": "markdown",
   "id": "6289012a",
   "metadata": {},
   "source": [
    "# solution"
   ]
  },
  {
   "cell_type": "code",
   "execution_count": null,
   "id": "9285781a",
   "metadata": {},
   "outputs": [],
   "source": [
    "#normal entrance\n",
    "cd /usr/local/mysql\n",
    "./mysql -u root -p"
   ]
  },
  {
   "cell_type": "markdown",
   "id": "ea6d796d",
   "metadata": {},
   "source": [
    "    cd to download\n",
    "    execute mysql using \\bin folder then execute"
   ]
  },
  {
   "cell_type": "code",
   "execution_count": null,
   "id": "b8ed7b7a",
   "metadata": {},
   "outputs": [],
   "source": [
    "#cd to open file\n",
    "#then entrance mysql by directory\n",
    "cd /Users/employeesdb\n",
    "/usr/local/mysql/bin/mysql -u root -p -t employees<employees.sql"
   ]
  },
  {
   "cell_type": "markdown",
   "id": "f27377ac",
   "metadata": {},
   "source": [
    "    !desktop and download was lock by mac-system"
   ]
  },
  {
   "cell_type": "code",
   "execution_count": null,
   "id": "d51072a1",
   "metadata": {},
   "outputs": [],
   "source": [
    "cd /Users/jianlin/Downloads/employeesdb/employees.sql"
   ]
  }
 ],
 "metadata": {
  "kernelspec": {
   "display_name": "Python 3 (ipykernel)",
   "language": "python",
   "name": "python3"
  },
  "language_info": {
   "codemirror_mode": {
    "name": "ipython",
    "version": 3
   },
   "file_extension": ".py",
   "mimetype": "text/x-python",
   "name": "python",
   "nbconvert_exporter": "python",
   "pygments_lexer": "ipython3",
   "version": "3.8.8"
  }
 },
 "nbformat": 4,
 "nbformat_minor": 5
}
