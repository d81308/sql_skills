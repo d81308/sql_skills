{
 "cells": [
  {
   "cell_type": "code",
   "execution_count": null,
   "id": "50e4fd3c",
   "metadata": {},
   "outputs": [],
   "source": [
    "#define info for connection\n",
    "db_name = 'flight_booking'\n",
    "db_user = 'postgres'\n",
    "db_password = 'd9982951'\n",
    "db_host = '127.0.0.1'\n",
    "db_port = 5433\n",
    "\n",
    "%load_ext sql\n",
    "%sql postgresql://{db_user}:{db_password}@{db_host}:{db_port}/{db_name}"
   ]
  },
  {
   "cell_type": "markdown",
   "id": "806bf1bc",
   "metadata": {},
   "source": [
    "# view all activities"
   ]
  },
  {
   "cell_type": "code",
   "execution_count": null,
   "id": "d54a0425",
   "metadata": {
    "scrolled": true
   },
   "outputs": [],
   "source": [
    "%%sql\n",
    "    select *\n",
    "    from pg_stat_activity;"
   ]
  },
  {
   "cell_type": "markdown",
   "id": "e25a01ba",
   "metadata": {},
   "source": [
    "more focus on"
   ]
  },
  {
   "cell_type": "code",
   "execution_count": null,
   "id": "d4274624",
   "metadata": {},
   "outputs": [],
   "source": [
    "%%sql\n",
    "    select\n",
    "        pid,\n",
    "        usename,\n",
    "        datname,\n",
    "        state,\n",
    "        state_change,\n",
    "        query\n",
    "    from pg_stat_activity;"
   ]
  },
  {
   "cell_type": "markdown",
   "id": "edadb24b",
   "metadata": {},
   "source": [
    "# view all database activity"
   ]
  },
  {
   "cell_type": "code",
   "execution_count": null,
   "id": "956e4fbc",
   "metadata": {},
   "outputs": [],
   "source": [
    "%%sql\n",
    "    select *\n",
    "    from pg_stat_database;"
   ]
  },
  {
   "cell_type": "markdown",
   "id": "03642d45",
   "metadata": {},
   "source": [
    "more focus on"
   ]
  },
  {
   "cell_type": "code",
   "execution_count": null,
   "id": "cf8505b3",
   "metadata": {},
   "outputs": [],
   "source": [
    "%%sql\n",
    "    select\n",
    "        datname,\n",
    "        tup_inserted,\n",
    "        tup_updated,\n",
    "        tup_deleted\n",
    "    from pg_stat_database;"
   ]
  },
  {
   "cell_type": "markdown",
   "id": "7abdfcd1",
   "metadata": {},
   "source": [
    "fetched, returned"
   ]
  },
  {
   "cell_type": "code",
   "execution_count": null,
   "id": "4d3af5c6",
   "metadata": {},
   "outputs": [],
   "source": [
    "%%sql\n",
    "    select\n",
    "        datname,\n",
    "        tup_fetched,\n",
    "        tup_returned\n",
    "    from pg_stat_database;"
   ]
  },
  {
   "cell_type": "markdown",
   "id": "7d375d28",
   "metadata": {},
   "source": [
    "# monitor performance over time"
   ]
  },
  {
   "cell_type": "code",
   "execution_count": null,
   "id": "d2de4bc4",
   "metadata": {},
   "outputs": [],
   "source": [
    "%%sql\n",
    "    CREATE EXTENSION pg_stat_statements;"
   ]
  },
  {
   "cell_type": "code",
   "execution_count": null,
   "id": "7b3df1f4",
   "metadata": {},
   "outputs": [],
   "source": [
    "%%sql\n",
    "    ALTER SYSTEM SET shared_preload_libraries = 'pg_stat_statements';"
   ]
  },
  {
   "cell_type": "code",
   "execution_count": null,
   "id": "c0d5e50b",
   "metadata": {},
   "outputs": [],
   "source": [
    "%%sql\n",
    "    SHOW shared_preload_libraries;"
   ]
  },
  {
   "cell_type": "code",
   "execution_count": null,
   "id": "e0f1ccb7",
   "metadata": {},
   "outputs": [],
   "source": [
    "%%sql\n",
    "    select *\n",
    "    from pg_stat_statements"
   ]
  },
  {
   "cell_type": "markdown",
   "id": "e3f38b9d",
   "metadata": {},
   "source": [
    "# drop"
   ]
  },
  {
   "cell_type": "code",
   "execution_count": null,
   "id": "6424d9f0",
   "metadata": {
    "scrolled": true
   },
   "outputs": [],
   "source": [
    "%%sql\n",
    "    DROP EXTENSION pg_stat_statements;\n",
    "    ALTER SYSTEM RESET shared_preload_libraries;"
   ]
  },
  {
   "cell_type": "markdown",
   "id": "e627f024",
   "metadata": {},
   "source": [
    "# see dashborad"
   ]
  },
  {
   "cell_type": "code",
   "execution_count": null,
   "id": "d21801aa",
   "metadata": {},
   "outputs": [],
   "source": [
    "%%sql\n",
    "    EXPLAIN\n",
    "    SELECT *\n",
    "    FROM bookings.bookings;"
   ]
  },
  {
   "cell_type": "code",
   "execution_count": null,
   "id": "a677ea05",
   "metadata": {},
   "outputs": [],
   "source": []
  }
 ],
 "metadata": {
  "kernelspec": {
   "display_name": "Python 3 (ipykernel)",
   "language": "python",
   "name": "python3"
  },
  "language_info": {
   "codemirror_mode": {
    "name": "ipython",
    "version": 3
   },
   "file_extension": ".py",
   "mimetype": "text/x-python",
   "name": "python",
   "nbconvert_exporter": "python",
   "pygments_lexer": "ipython3",
   "version": "3.8.8"
  }
 },
 "nbformat": 4,
 "nbformat_minor": 5
}
