{
 "cells": [
  {
   "cell_type": "markdown",
   "id": "8021c13d",
   "metadata": {},
   "source": [
    "# create the cnf file\n",
    "> need sudo\n",
    "\n",
    "> path in ~./\n",
    "\n",
    "> file name is my.cnf"
   ]
  },
  {
   "cell_type": "code",
   "execution_count": null,
   "id": "269b53ef",
   "metadata": {},
   "outputs": [],
   "source": [
    "sudo nano ~/my.cnf\n",
    "\n",
    "<output>\n",
    "password\n",
    "\n",
    "key in the mac password"
   ]
  },
  {
   "cell_type": "markdown",
   "id": "44b06939",
   "metadata": {},
   "source": [
    "    inside content"
   ]
  },
  {
   "cell_type": "code",
   "execution_count": null,
   "id": "844af01a",
   "metadata": {},
   "outputs": [],
   "source": [
    "[mysql]\n",
    "host = 127.0.0.1\n",
    "port = 3306\n",
    "user = root\n",
    "password = d9982951\n",
    "\n",
    "[mysqlimport]\n",
    "host = 127.0.0.1\n",
    "port = 3306\n",
    "user = root\n",
    "password = d9982951\n",
    "\n",
    "[mysqldump]\n",
    "host = 127.0.0.1\n",
    "port = 3306\n",
    "user = root\n",
    "password = d9982951\n",
    "\n",
    "[mysqlshow]\n",
    "host = 127.0.0.1\n",
    "port = 3306\n",
    "user = root\n",
    "password = d9982951\n",
    "\n",
    "[mysqlcheck]\n",
    "host = 127.0.0.1\n",
    "port = 3306\n",
    "user = root\n",
    "password = d9982951\n",
    "\n",
    "[mysqladmin]\n",
    "host = 127.0.0.1\n",
    "port = 3306\n",
    "user = root\n",
    "password = d9982951"
   ]
  },
  {
   "cell_type": "markdown",
   "id": "6e1cd326",
   "metadata": {},
   "source": [
    "#### then open mysql, no need password!"
   ]
  },
  {
   "cell_type": "code",
   "execution_count": null,
   "id": "f9014b0e",
   "metadata": {},
   "outputs": [],
   "source": [
    "(base) jianlinde-MacBook-Pro:~ jianlin$ cd /usr/local/mysql/bin\n",
    "(base) jianlinde-MacBook-Pro:bin jianlin$ ./mysql\n",
    "\n",
    "<output>\n",
    "Welcome to the MySQL monitor.  Commands end with ; or \\g.\n",
    "Your MySQL connection id is 313\n",
    "Server version: 5.7.29 MySQL Community Server (GPL)\n",
    "\n",
    "Copyright (c) 2000, 2020, Oracle and/or its affiliates. All rights reserved.\n",
    "\n",
    "Oracle is a registered trademark of Oracle Corporation and/or its\n",
    "affiliates. Other names may be trademarks of their respective\n",
    "owners.\n",
    "\n",
    "Type 'help;' or '\\h' for help. Type '\\c' to clear the current input statement.\n",
    "\n",
    "mysql>"
   ]
  }
 ],
 "metadata": {
  "kernelspec": {
   "display_name": "Python 3 (ipykernel)",
   "language": "python",
   "name": "python3"
  },
  "language_info": {
   "codemirror_mode": {
    "name": "ipython",
    "version": 3
   },
   "file_extension": ".py",
   "mimetype": "text/x-python",
   "name": "python",
   "nbconvert_exporter": "python",
   "pygments_lexer": "ipython3",
   "version": "3.8.8"
  }
 },
 "nbformat": 4,
 "nbformat_minor": 5
}
